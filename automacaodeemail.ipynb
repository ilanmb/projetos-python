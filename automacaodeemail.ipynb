{
 "cells": [
  {
   "cell_type": "markdown",
   "id": "0d602a87",
   "metadata": {},
   "source": [
    "# Projeto de automação de envios de e-mail #\n",
    "\n",
    "Nesse projeto, utilizaremos as bibliotecas pandas, time e pyautogui para\n",
    "criar uma automação que baixa a base de dados, extrai as informações, abre\n",
    "o email, e envia o e-mail completo com as informações tiradas.\n",
    "\n",
    "    Tudo através do Python! :)"
   ]
  },
  {
   "cell_type": "markdown",
   "id": "2e17add7",
   "metadata": {},
   "source": [
    "## Importando as Bibliotecas\n",
    "\n",
    "O Código abaixo faz a importação das bibliotecas que serão utilizadas.  "
   ]
  },
  {
   "cell_type": "code",
   "execution_count": 5,
   "id": "3e556f91",
   "metadata": {},
   "outputs": [],
   "source": [
    "import pyautogui as pag\n",
    "import time\n",
    "import pyperclip as ppc\n",
    "import pandas as pd\n",
    "\n",
    "pag.PAUSE = 1"
   ]
  },
  {
   "cell_type": "markdown",
   "id": "740ba7dc",
   "metadata": {},
   "source": [
    "## Lista de execuções\n",
    "\n",
    "#### 1º Passo: Abrir o local de onde será baixado a base de dados;\n",
    "#### 2º Passo: Navegar até o local onde está a base de dados;\n",
    "#### 3º Passo: Exportar a base de dados (fazer download);\n",
    "#### 4º Passo: Extrair os indicadores;\n",
    "#### 5º Passo: Enviar o e-mail com texto já formatado."
   ]
  },
  {
   "cell_type": "markdown",
   "id": "26cff435",
   "metadata": {},
   "source": [
    "# 1º Passo:"
   ]
  },
  {
   "cell_type": "code",
   "execution_count": 6,
   "id": "1d1fd24d",
   "metadata": {},
   "outputs": [],
   "source": [
    "time.sleep(.5)\n",
    "pag.click(x=264, y=1060) #Clica na busca do Windows#\n",
    "pag.write(\"chrome\") #Digita Chrome na busca#\n",
    "pag.press(\"Enter\") #Pressiona enter para abrir o Chrome#\n",
    "ppc.copy(\"https://drive.google.com/drive/folders/149xknr9JvrlEnhNWO49zPcw0PW5icxga\") #Copia o Link para o Drive#\n",
    "pag.hotkey(\"Ctrl\", \"v\") #Cola o link do Drive#\n",
    "pag.press(\"Enter\") #Pressiona o Enter para acessar o Drive#"
   ]
  },
  {
   "cell_type": "markdown",
   "id": "4146eb81",
   "metadata": {},
   "source": [
    "# 2º / 3º Passo:"
   ]
  },
  {
   "cell_type": "code",
   "execution_count": 29,
   "id": "39511243",
   "metadata": {},
   "outputs": [],
   "source": [
    "pag.click(x=409, y=382, clicks=2) #Duplo clique abre pasta do arquivo#\n",
    "time.sleep(2) #Timer para carregar a tela#\n",
    "pag.click(x=493, y=509) #Clique mostrando o menu opções#\n",
    "pag.click(x=1664, y=249) #Clique abrindo o menu opções#\n",
    "pag.click(x=1372, y=751) #Clique selecionando Download#"
   ]
  },
  {
   "cell_type": "markdown",
   "id": "9bca7e96",
   "metadata": {},
   "source": [
    "# 4º Passo:"
   ]
  },
  {
   "cell_type": "code",
   "execution_count": 12,
   "id": "9c098edb",
   "metadata": {},
   "outputs": [
    {
     "name": "stdout",
     "output_type": "stream",
     "text": [
      "15227 2917311\n"
     ]
    }
   ],
   "source": [
    "tabela = pd.read_excel(r\"C:\\Users\\iLaN\\Downloads\\Vendas - Dez.xlsx\")\n",
    "faturamento = tabela[\"Valor Final\"].sum()\n",
    "quantidade = tabela[\"Quantidade\"].sum()\n",
    "print(quantidade, faturamento)"
   ]
  },
  {
   "cell_type": "code",
   "execution_count": 10,
   "id": "0ffbabcd",
   "metadata": {},
   "outputs": [
    {
     "data": {
      "text/html": [
       "<div>\n",
       "<style scoped>\n",
       "    .dataframe tbody tr th:only-of-type {\n",
       "        vertical-align: middle;\n",
       "    }\n",
       "\n",
       "    .dataframe tbody tr th {\n",
       "        vertical-align: top;\n",
       "    }\n",
       "\n",
       "    .dataframe thead th {\n",
       "        text-align: right;\n",
       "    }\n",
       "</style>\n",
       "<table border=\"1\" class=\"dataframe\">\n",
       "  <thead>\n",
       "    <tr style=\"text-align: right;\">\n",
       "      <th></th>\n",
       "      <th>Código Venda</th>\n",
       "      <th>Data</th>\n",
       "      <th>ID Loja</th>\n",
       "      <th>Produto</th>\n",
       "      <th>Quantidade</th>\n",
       "      <th>Valor Unitário</th>\n",
       "      <th>Valor Final</th>\n",
       "    </tr>\n",
       "  </thead>\n",
       "  <tbody>\n",
       "    <tr>\n",
       "      <th>0</th>\n",
       "      <td>65014</td>\n",
       "      <td>2019-12-01</td>\n",
       "      <td>Shopping Morumbi</td>\n",
       "      <td>Sunga Listrado</td>\n",
       "      <td>5</td>\n",
       "      <td>114</td>\n",
       "      <td>570</td>\n",
       "    </tr>\n",
       "    <tr>\n",
       "      <th>1</th>\n",
       "      <td>65014</td>\n",
       "      <td>2019-12-01</td>\n",
       "      <td>Shopping Morumbi</td>\n",
       "      <td>Casaco Listrado</td>\n",
       "      <td>1</td>\n",
       "      <td>269</td>\n",
       "      <td>269</td>\n",
       "    </tr>\n",
       "    <tr>\n",
       "      <th>2</th>\n",
       "      <td>65016</td>\n",
       "      <td>2019-12-01</td>\n",
       "      <td>Iguatemi Campinas</td>\n",
       "      <td>Sapato Listrado</td>\n",
       "      <td>2</td>\n",
       "      <td>363</td>\n",
       "      <td>726</td>\n",
       "    </tr>\n",
       "    <tr>\n",
       "      <th>3</th>\n",
       "      <td>65016</td>\n",
       "      <td>2019-12-01</td>\n",
       "      <td>Iguatemi Campinas</td>\n",
       "      <td>Casaco</td>\n",
       "      <td>1</td>\n",
       "      <td>250</td>\n",
       "      <td>250</td>\n",
       "    </tr>\n",
       "    <tr>\n",
       "      <th>4</th>\n",
       "      <td>65017</td>\n",
       "      <td>2019-12-01</td>\n",
       "      <td>Shopping SP Market</td>\n",
       "      <td>Gorro Liso</td>\n",
       "      <td>3</td>\n",
       "      <td>92</td>\n",
       "      <td>276</td>\n",
       "    </tr>\n",
       "    <tr>\n",
       "      <th>...</th>\n",
       "      <td>...</td>\n",
       "      <td>...</td>\n",
       "      <td>...</td>\n",
       "      <td>...</td>\n",
       "      <td>...</td>\n",
       "      <td>...</td>\n",
       "      <td>...</td>\n",
       "    </tr>\n",
       "    <tr>\n",
       "      <th>7084</th>\n",
       "      <td>69996</td>\n",
       "      <td>2019-12-26</td>\n",
       "      <td>Center Shopping Uberlândia</td>\n",
       "      <td>Short Listrado</td>\n",
       "      <td>2</td>\n",
       "      <td>102</td>\n",
       "      <td>204</td>\n",
       "    </tr>\n",
       "    <tr>\n",
       "      <th>7085</th>\n",
       "      <td>69996</td>\n",
       "      <td>2019-12-26</td>\n",
       "      <td>Center Shopping Uberlândia</td>\n",
       "      <td>Mochila</td>\n",
       "      <td>4</td>\n",
       "      <td>270</td>\n",
       "      <td>1080</td>\n",
       "    </tr>\n",
       "    <tr>\n",
       "      <th>7086</th>\n",
       "      <td>69996</td>\n",
       "      <td>2019-12-26</td>\n",
       "      <td>Center Shopping Uberlândia</td>\n",
       "      <td>Pulseira Estampa</td>\n",
       "      <td>1</td>\n",
       "      <td>87</td>\n",
       "      <td>87</td>\n",
       "    </tr>\n",
       "    <tr>\n",
       "      <th>7087</th>\n",
       "      <td>69997</td>\n",
       "      <td>2019-12-26</td>\n",
       "      <td>Ribeirão Shopping</td>\n",
       "      <td>Camisa Listrado</td>\n",
       "      <td>1</td>\n",
       "      <td>108</td>\n",
       "      <td>108</td>\n",
       "    </tr>\n",
       "    <tr>\n",
       "      <th>7088</th>\n",
       "      <td>69997</td>\n",
       "      <td>2019-12-26</td>\n",
       "      <td>Ribeirão Shopping</td>\n",
       "      <td>Short Linho</td>\n",
       "      <td>2</td>\n",
       "      <td>133</td>\n",
       "      <td>266</td>\n",
       "    </tr>\n",
       "  </tbody>\n",
       "</table>\n",
       "<p>7089 rows × 7 columns</p>\n",
       "</div>"
      ],
      "text/plain": [
       "      Código Venda       Data                     ID Loja           Produto  \\\n",
       "0            65014 2019-12-01            Shopping Morumbi    Sunga Listrado   \n",
       "1            65014 2019-12-01            Shopping Morumbi   Casaco Listrado   \n",
       "2            65016 2019-12-01           Iguatemi Campinas   Sapato Listrado   \n",
       "3            65016 2019-12-01           Iguatemi Campinas            Casaco   \n",
       "4            65017 2019-12-01          Shopping SP Market        Gorro Liso   \n",
       "...            ...        ...                         ...               ...   \n",
       "7084         69996 2019-12-26  Center Shopping Uberlândia    Short Listrado   \n",
       "7085         69996 2019-12-26  Center Shopping Uberlândia           Mochila   \n",
       "7086         69996 2019-12-26  Center Shopping Uberlândia  Pulseira Estampa   \n",
       "7087         69997 2019-12-26           Ribeirão Shopping   Camisa Listrado   \n",
       "7088         69997 2019-12-26           Ribeirão Shopping       Short Linho   \n",
       "\n",
       "      Quantidade  Valor Unitário  Valor Final  \n",
       "0              5             114          570  \n",
       "1              1             269          269  \n",
       "2              2             363          726  \n",
       "3              1             250          250  \n",
       "4              3              92          276  \n",
       "...          ...             ...          ...  \n",
       "7084           2             102          204  \n",
       "7085           4             270         1080  \n",
       "7086           1              87           87  \n",
       "7087           1             108          108  \n",
       "7088           2             133          266  \n",
       "\n",
       "[7089 rows x 7 columns]"
      ]
     },
     "metadata": {},
     "output_type": "display_data"
    }
   ],
   "source": [
    "display(tabela)"
   ]
  },
  {
   "cell_type": "code",
   "execution_count": 27,
   "id": "04712c0f",
   "metadata": {},
   "outputs": [
    {
     "data": {
      "text/plain": [
       "Point(x=1372, y=751)"
      ]
     },
     "execution_count": 27,
     "metadata": {},
     "output_type": "execute_result"
    }
   ],
   "source": [
    "time.sleep(4)\n",
    "pag.position()"
   ]
  },
  {
   "cell_type": "code",
   "execution_count": null,
   "id": "e416e8dd",
   "metadata": {},
   "outputs": [],
   "source": []
  }
 ],
 "metadata": {
  "kernelspec": {
   "display_name": "Python 3 (ipykernel)",
   "language": "python",
   "name": "python3"
  },
  "language_info": {
   "codemirror_mode": {
    "name": "ipython",
    "version": 3
   },
   "file_extension": ".py",
   "mimetype": "text/x-python",
   "name": "python",
   "nbconvert_exporter": "python",
   "pygments_lexer": "ipython3",
   "version": "3.9.13"
  }
 },
 "nbformat": 4,
 "nbformat_minor": 5
}
